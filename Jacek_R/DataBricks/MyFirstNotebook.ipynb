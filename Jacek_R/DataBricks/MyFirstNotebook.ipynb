{
 "cells": [
  {
   "cell_type": "markdown",
   "metadata": {
    "application/vnd.databricks.v1+cell": {
     "cellMetadata": {},
     "inputWidgets": {},
     "nuid": "96723c55-1546-4f7a-a409-d34efa9de73c",
     "showTitle": false,
     "tableResultSettingsMap": {},
     "title": ""
    }
   },
   "source": [
    "### Czytanie plików w SparkSQL (tabela)"
   ]
  },
  {
   "cell_type": "code",
   "execution_count": 0,
   "metadata": {
    "application/vnd.databricks.v1+cell": {
     "cellMetadata": {
      "byteLimit": 2048000,
      "implicitDf": true,
      "rowLimit": 10000
     },
     "inputWidgets": {},
     "nuid": "56755568-3c7f-4616-b7e3-0d343f1879fb",
     "showTitle": false,
     "tableResultSettingsMap": {},
     "title": ""
    }
   },
   "outputs": [
    {
     "output_type": "display_data",
     "data": {
      "text/html": [
       "<style scoped>\n",
       "  .table-result-container {\n",
       "    max-height: 300px;\n",
       "    overflow: auto;\n",
       "  }\n",
       "  table, th, td {\n",
       "    border: 1px solid black;\n",
       "    border-collapse: collapse;\n",
       "  }\n",
       "  th, td {\n",
       "    padding: 5px;\n",
       "  }\n",
       "  th {\n",
       "    text-align: left;\n",
       "  }\n",
       "</style><div class='table-result-container'><table class='table-result'><thead style='background-color: white'><tr><th>first_name</th><th>last_name</th><th>email</th><th>gender</th></tr></thead><tbody><tr><td>Amanda</td><td>Jordan</td><td>ajordan0@com.com</td><td>Female</td></tr><tr><td>Albert</td><td>Freeman</td><td>afreeman1@is.gd</td><td>Male</td></tr><tr><td>Evelyn</td><td>Morgan</td><td>emorgan2@altervista.org</td><td>Female</td></tr><tr><td>Denise</td><td>Riley</td><td>driley3@gmpg.org</td><td>Female</td></tr><tr><td>Carlos</td><td>Burns</td><td>cburns4@miitbeian.gov.cn</td><td></td></tr></tbody></table></div>"
      ]
     },
     "metadata": {
      "application/vnd.databricks.v1+output": {
       "addedWidgets": {},
       "aggData": [],
       "aggError": "",
       "aggOverflow": false,
       "aggSchema": [],
       "aggSeriesLimitReached": false,
       "aggType": "",
       "arguments": {},
       "columnCustomDisplayInfos": {},
       "data": [
        [
         "Amanda",
         "Jordan",
         "ajordan0@com.com",
         "Female"
        ],
        [
         "Albert",
         "Freeman",
         "afreeman1@is.gd",
         "Male"
        ],
        [
         "Evelyn",
         "Morgan",
         "emorgan2@altervista.org",
         "Female"
        ],
        [
         "Denise",
         "Riley",
         "driley3@gmpg.org",
         "Female"
        ],
        [
         "Carlos",
         "Burns",
         "cburns4@miitbeian.gov.cn",
         ""
        ]
       ],
       "datasetInfos": [
        {
         "name": "_sqldf",
         "schema": {
          "fields": [
           {
            "metadata": {},
            "name": "first_name",
            "nullable": true,
            "type": "string"
           },
           {
            "metadata": {},
            "name": "last_name",
            "nullable": true,
            "type": "string"
           },
           {
            "metadata": {},
            "name": "email",
            "nullable": true,
            "type": "string"
           },
           {
            "metadata": {},
            "name": "gender",
            "nullable": true,
            "type": "string"
           }
          ],
          "type": "struct"
         },
         "tableIdentifier": null,
         "typeStr": "pyspark.sql.connect.dataframe.DataFrame"
        }
       ],
       "dbfsResultPath": null,
       "isJsonSchema": true,
       "metadata": {
        "createTempViewForImplicitDf": true,
        "dataframeName": "_sqldf",
        "executionCount": 45
       },
       "overflow": false,
       "plotOptions": {
        "customPlotOptions": {},
        "displayType": "table",
        "pivotAggregation": null,
        "pivotColumns": null,
        "xColumns": null,
        "yColumns": null
       },
       "removedWidgets": [],
       "schema": [
        {
         "metadata": "{}",
         "name": "first_name",
         "type": "\"string\""
        },
        {
         "metadata": "{}",
         "name": "last_name",
         "type": "\"string\""
        },
        {
         "metadata": "{}",
         "name": "email",
         "type": "\"string\""
        },
        {
         "metadata": "{}",
         "name": "gender",
         "type": "\"string\""
        }
       ],
       "type": "table"
      }
     },
     "output_type": "display_data"
    }
   ],
   "source": [
    "%sql\n",
    "select\n",
    "  first_name,\n",
    "  last_name,\n",
    "  email,\n",
    "  gender\n",
    "from\n",
    "  newcatalog.newschema.userdata_1\n",
    "limit 5"
   ]
  },
  {
   "cell_type": "code",
   "execution_count": 0,
   "metadata": {
    "application/vnd.databricks.v1+cell": {
     "cellMetadata": {
      "byteLimit": 2048000,
      "implicitDf": true,
      "rowLimit": 10000
     },
     "inputWidgets": {},
     "nuid": "0e089313-2af7-4117-9be9-cfe0d47015f4",
     "showTitle": false,
     "tableResultSettingsMap": {},
     "title": ""
    }
   },
   "outputs": [
    {
     "output_type": "display_data",
     "data": {
      "text/html": [
       "<style scoped>\n",
       "  .table-result-container {\n",
       "    max-height: 300px;\n",
       "    overflow: auto;\n",
       "  }\n",
       "  table, th, td {\n",
       "    border: 1px solid black;\n",
       "    border-collapse: collapse;\n",
       "  }\n",
       "  th, td {\n",
       "    padding: 5px;\n",
       "  }\n",
       "  th {\n",
       "    text-align: left;\n",
       "  }\n",
       "</style><div class='table-result-container'><table class='table-result'><thead style='background-color: white'><tr><th>databaseName</th></tr></thead><tbody><tr><td>default</td></tr><tr><td>information_schema</td></tr></tbody></table></div>"
      ]
     },
     "metadata": {
      "application/vnd.databricks.v1+output": {
       "addedWidgets": {},
       "aggData": [],
       "aggError": "",
       "aggOverflow": false,
       "aggSchema": [],
       "aggSeriesLimitReached": false,
       "aggType": "",
       "arguments": {},
       "columnCustomDisplayInfos": {},
       "data": [
        [
         "default"
        ],
        [
         "information_schema"
        ]
       ],
       "datasetInfos": [
        {
         "name": "_sqldf",
         "schema": {
          "fields": [
           {
            "metadata": {},
            "name": "databaseName",
            "nullable": false,
            "type": "string"
           }
          ],
          "type": "struct"
         },
         "tableIdentifier": null,
         "typeStr": "pyspark.sql.connect.dataframe.DataFrame"
        }
       ],
       "dbfsResultPath": null,
       "isJsonSchema": true,
       "metadata": {
        "createTempViewForImplicitDf": true,
        "dataframeName": "_sqldf",
        "executionCount": 8
       },
       "overflow": false,
       "plotOptions": {
        "customPlotOptions": {},
        "displayType": "table",
        "pivotAggregation": null,
        "pivotColumns": null,
        "xColumns": null,
        "yColumns": null
       },
       "removedWidgets": [],
       "schema": [
        {
         "metadata": "{}",
         "name": "databaseName",
         "type": "\"string\""
        }
       ],
       "type": "table"
      }
     },
     "output_type": "display_data"
    }
   ],
   "source": [
    "%sql\n",
    "SHOW DATABASES;\n",
    "--lub\n",
    "SHOW SCHEMAS;\n",
    "\n"
   ]
  },
  {
   "cell_type": "markdown",
   "metadata": {
    "application/vnd.databricks.v1+cell": {
     "cellMetadata": {},
     "inputWidgets": {},
     "nuid": "18679e7a-435d-48f9-bde2-e3f871e372e5",
     "showTitle": false,
     "tableResultSettingsMap": {},
     "title": ""
    }
   },
   "source": [
    "### Czytanie plików parquet przy użyciu Python\n",
    "\n",
    "- wyniki można zapisać do ramki danych (dataframe)"
   ]
  },
  {
   "cell_type": "code",
   "execution_count": 0,
   "metadata": {
    "application/vnd.databricks.v1+cell": {
     "cellMetadata": {
      "byteLimit": 2048000,
      "rowLimit": 10000
     },
     "inputWidgets": {},
     "nuid": "7ad08d64-203d-4e0a-a51a-443e0998d1be",
     "showTitle": false,
     "tableResultSettingsMap": {},
     "title": ""
    }
   },
   "outputs": [
    {
     "output_type": "display_data",
     "data": {
      "text/html": [
       "<style scoped>\n",
       "  .table-result-container {\n",
       "    max-height: 300px;\n",
       "    overflow: auto;\n",
       "  }\n",
       "  table, th, td {\n",
       "    border: 1px solid black;\n",
       "    border-collapse: collapse;\n",
       "  }\n",
       "  th, td {\n",
       "    padding: 5px;\n",
       "  }\n",
       "  th {\n",
       "    text-align: left;\n",
       "  }\n",
       "</style><div class='table-result-container'><table class='table-result'><thead style='background-color: white'><tr><th>column0</th><th>column1</th></tr></thead><tbody><tr><td>first</td><td> last</td></tr><tr><td>Jorge</td><td>Frank</td></tr><tr><td>Hunter</td><td>Moreno</td></tr></tbody></table></div>"
      ]
     },
     "metadata": {
      "application/vnd.databricks.v1+output": {
       "addedWidgets": {},
       "aggData": [],
       "aggError": "",
       "aggOverflow": false,
       "aggSchema": [],
       "aggSeriesLimitReached": false,
       "aggType": "",
       "arguments": {},
       "columnCustomDisplayInfos": {},
       "data": [
        [
         "first",
         " last"
        ],
        [
         "Jorge",
         "Frank"
        ],
        [
         "Hunter",
         "Moreno"
        ]
       ],
       "datasetInfos": [],
       "dbfsResultPath": null,
       "isJsonSchema": true,
       "metadata": {},
       "overflow": false,
       "plotOptions": {
        "customPlotOptions": {},
        "displayType": "table",
        "pivotAggregation": null,
        "pivotColumns": null,
        "xColumns": null,
        "yColumns": null
       },
       "removedWidgets": [],
       "schema": [
        {
         "metadata": "{}",
         "name": "column0",
         "type": "\"string\""
        },
        {
         "metadata": "{}",
         "name": "column1",
         "type": "\"string\""
        }
       ],
       "type": "table"
      }
     },
     "output_type": "display_data"
    }
   ],
   "source": [
    "#Metoda 1\n",
    "\n",
    "# Ścieżka do pliku Parquet \n",
    "file_path = \"/Volumes/newcatalog/newschema/myvolume/sample1.parquet\"  \n",
    "\n",
    "# Odczyt pliku Parquet\n",
    "dane = spark.read.parquet(file_path)\n",
    "\n",
    "# Podgląd danych\n",
    "#dane.show()\n",
    "display(dane.head(3)) #3 wiersze\n",
    "\n"
   ]
  },
  {
   "cell_type": "code",
   "execution_count": 0,
   "metadata": {
    "application/vnd.databricks.v1+cell": {
     "cellMetadata": {
      "byteLimit": 2048000,
      "implicitDf": true,
      "rowLimit": 10000
     },
     "inputWidgets": {},
     "nuid": "53b04e9f-6423-4a53-b199-7239395b48b2",
     "showTitle": false,
     "tableResultSettingsMap": {},
     "title": ""
    }
   },
   "outputs": [
    {
     "output_type": "display_data",
     "data": {
      "text/html": [
       "<style scoped>\n",
       "  .table-result-container {\n",
       "    max-height: 300px;\n",
       "    overflow: auto;\n",
       "  }\n",
       "  table, th, td {\n",
       "    border: 1px solid black;\n",
       "    border-collapse: collapse;\n",
       "  }\n",
       "  th, td {\n",
       "    padding: 5px;\n",
       "  }\n",
       "  th {\n",
       "    text-align: left;\n",
       "  }\n",
       "</style><div class='table-result-container'><table class='table-result'><thead style='background-color: white'><tr><th>column0</th><th>column1</th></tr></thead><tbody><tr><td>first</td><td> last</td></tr><tr><td>Jorge</td><td>Frank</td></tr><tr><td>Hunter</td><td>Moreno</td></tr><tr><td>Esther</td><td>Guzman</td></tr><tr><td>Dennis</td><td>Stephens</td></tr><tr><td>Nettie</td><td>Franklin</td></tr><tr><td>Stanley</td><td>Gibson</td></tr><tr><td>Eugenia</td><td>Greer</td></tr><tr><td>Jeffery</td><td>Delgado</td></tr><tr><td>Clara</td><td>Cross</td></tr><tr><td>Bernice</td><td>Vega</td></tr><tr><td>Kevin</td><td>Diaz</td></tr><tr><td>Henrietta</td><td>Rivera</td></tr><tr><td>Matilda</td><td>Ellis</td></tr><tr><td>Isaac</td><td>Willis</td></tr><tr><td>Eric</td><td>Cain</td></tr><tr><td>Hettie</td><td>Baldwin</td></tr><tr><td>Tommy</td><td>Wheeler</td></tr><tr><td>Theresa</td><td>Casey</td></tr><tr><td>Bess</td><td>Griffin</td></tr><tr><td>Virgie</td><td>Sherman</td></tr><tr><td>Richard</td><td>Garrett</td></tr><tr><td>Andrew</td><td>Clark</td></tr><tr><td>Edna</td><td>Ramos</td></tr><tr><td>Gregory</td><td>Henderson</td></tr><tr><td>Isabel</td><td>Russell</td></tr><tr><td>Gregory</td><td>Arnold</td></tr><tr><td>Leah</td><td>Green</td></tr><tr><td>Landon</td><td>Washington</td></tr><tr><td>Ada</td><td>Guzman</td></tr><tr><td>Steve</td><td>Brooks</td></tr><tr><td>Harriett</td><td>Parker</td></tr><tr><td>Mildred</td><td>Wallace</td></tr><tr><td>Nell</td><td>Townsend</td></tr><tr><td>Gussie</td><td>Nash</td></tr><tr><td>Dennis</td><td>Pratt</td></tr><tr><td>Zachary</td><td>Bishop</td></tr><tr><td>Mary</td><td>Baldwin</td></tr><tr><td>Micheal</td><td>Baker</td></tr><tr><td>Abbie</td><td>Willis</td></tr><tr><td>Sylvia</td><td>Jennings</td></tr><tr><td>Seth</td><td>Meyer</td></tr><tr><td>Jeff</td><td>Lamb</td></tr><tr><td>Lillian</td><td>Sparks</td></tr><tr><td>Ian</td><td>Sanchez</td></tr><tr><td>Timothy</td><td>Barton</td></tr><tr><td>Carl</td><td>Sharp</td></tr><tr><td>Elmer</td><td>Palmer</td></tr><tr><td>Olivia</td><td>Francis</td></tr><tr><td>Jerome</td><td>Nash</td></tr><tr><td>Alan</td><td>Diaz</td></tr><tr><td>Lois</td><td>Clayton</td></tr><tr><td>Frances</td><td>Perez</td></tr><tr><td>Warren</td><td>Cunningham</td></tr><tr><td>Flora</td><td>Higgins</td></tr><tr><td>Brent</td><td>Atkins</td></tr><tr><td>Olivia</td><td>Thompson</td></tr><tr><td>Leo</td><td>Hines</td></tr><tr><td>Josie</td><td>Hunt</td></tr><tr><td>Jerry</td><td>Hunt</td></tr><tr><td>Lucy</td><td>Collins</td></tr><tr><td>Jeremiah</td><td>Rogers</td></tr><tr><td>Minnie</td><td>Henderson</td></tr><tr><td>Jeremy</td><td>Fox</td></tr><tr><td>Anthony</td><td>Bowman</td></tr><tr><td>Dennis</td><td>Norris</td></tr><tr><td>Marvin</td><td>Hanson</td></tr><tr><td>Lucy</td><td>Adams</td></tr><tr><td>Gilbert</td><td>Carpenter</td></tr><tr><td>Owen</td><td>Patton</td></tr><tr><td>Bradley</td><td>Byrd</td></tr><tr><td>Hunter</td><td>Boone</td></tr><tr><td>Adele</td><td>Hill</td></tr><tr><td>Willie</td><td>Roy</td></tr><tr><td>Ian</td><td>Bridges</td></tr><tr><td>Theresa</td><td>Sparks</td></tr><tr><td>Rodney</td><td>Carr</td></tr><tr><td>Logan</td><td>Howard</td></tr><tr><td>Juan</td><td>Murphy</td></tr><tr><td>Mathilda</td><td>Rowe</td></tr><tr><td>Lola</td><td>Matthews</td></tr><tr><td>Gussie</td><td>Gross</td></tr><tr><td>Steven</td><td>Brown</td></tr><tr><td>Eva</td><td>Schmidt</td></tr><tr><td>Marion</td><td>Malone</td></tr><tr><td>Rodney</td><td>Brady</td></tr><tr><td>Helen</td><td>Dixon</td></tr><tr><td>Rosalie</td><td>Boyd</td></tr><tr><td>Francis</td><td>Ortiz</td></tr><tr><td>Evelyn</td><td>Holland</td></tr><tr><td>Marcus</td><td>Singleton</td></tr><tr><td>Virginia</td><td>Wood</td></tr><tr><td>Georgia</td><td>Watkins</td></tr><tr><td>Katie</td><td>Matthews</td></tr><tr><td>Callie</td><td>Hernandez</td></tr><tr><td>Chase</td><td>Bryant</td></tr><tr><td>Brett</td><td>Miller</td></tr><tr><td>Adelaide</td><td>Phelps</td></tr><tr><td>Leo</td><td>Walters</td></tr><tr><td>Samuel</td><td>Schmidt</td></tr><tr><td>Elizabeth</td><td>Gordon</td></tr></tbody></table></div>"
      ]
     },
     "metadata": {
      "application/vnd.databricks.v1+output": {
       "addedWidgets": {},
       "aggData": [],
       "aggError": "",
       "aggOverflow": false,
       "aggSchema": [],
       "aggSeriesLimitReached": false,
       "aggType": "",
       "arguments": {},
       "columnCustomDisplayInfos": {},
       "data": [
        [
         "first",
         " last"
        ],
        [
         "Jorge",
         "Frank"
        ],
        [
         "Hunter",
         "Moreno"
        ],
        [
         "Esther",
         "Guzman"
        ],
        [
         "Dennis",
         "Stephens"
        ],
        [
         "Nettie",
         "Franklin"
        ],
        [
         "Stanley",
         "Gibson"
        ],
        [
         "Eugenia",
         "Greer"
        ],
        [
         "Jeffery",
         "Delgado"
        ],
        [
         "Clara",
         "Cross"
        ],
        [
         "Bernice",
         "Vega"
        ],
        [
         "Kevin",
         "Diaz"
        ],
        [
         "Henrietta",
         "Rivera"
        ],
        [
         "Matilda",
         "Ellis"
        ],
        [
         "Isaac",
         "Willis"
        ],
        [
         "Eric",
         "Cain"
        ],
        [
         "Hettie",
         "Baldwin"
        ],
        [
         "Tommy",
         "Wheeler"
        ],
        [
         "Theresa",
         "Casey"
        ],
        [
         "Bess",
         "Griffin"
        ],
        [
         "Virgie",
         "Sherman"
        ],
        [
         "Richard",
         "Garrett"
        ],
        [
         "Andrew",
         "Clark"
        ],
        [
         "Edna",
         "Ramos"
        ],
        [
         "Gregory",
         "Henderson"
        ],
        [
         "Isabel",
         "Russell"
        ],
        [
         "Gregory",
         "Arnold"
        ],
        [
         "Leah",
         "Green"
        ],
        [
         "Landon",
         "Washington"
        ],
        [
         "Ada",
         "Guzman"
        ],
        [
         "Steve",
         "Brooks"
        ],
        [
         "Harriett",
         "Parker"
        ],
        [
         "Mildred",
         "Wallace"
        ],
        [
         "Nell",
         "Townsend"
        ],
        [
         "Gussie",
         "Nash"
        ],
        [
         "Dennis",
         "Pratt"
        ],
        [
         "Zachary",
         "Bishop"
        ],
        [
         "Mary",
         "Baldwin"
        ],
        [
         "Micheal",
         "Baker"
        ],
        [
         "Abbie",
         "Willis"
        ],
        [
         "Sylvia",
         "Jennings"
        ],
        [
         "Seth",
         "Meyer"
        ],
        [
         "Jeff",
         "Lamb"
        ],
        [
         "Lillian",
         "Sparks"
        ],
        [
         "Ian",
         "Sanchez"
        ],
        [
         "Timothy",
         "Barton"
        ],
        [
         "Carl",
         "Sharp"
        ],
        [
         "Elmer",
         "Palmer"
        ],
        [
         "Olivia",
         "Francis"
        ],
        [
         "Jerome",
         "Nash"
        ],
        [
         "Alan",
         "Diaz"
        ],
        [
         "Lois",
         "Clayton"
        ],
        [
         "Frances",
         "Perez"
        ],
        [
         "Warren",
         "Cunningham"
        ],
        [
         "Flora",
         "Higgins"
        ],
        [
         "Brent",
         "Atkins"
        ],
        [
         "Olivia",
         "Thompson"
        ],
        [
         "Leo",
         "Hines"
        ],
        [
         "Josie",
         "Hunt"
        ],
        [
         "Jerry",
         "Hunt"
        ],
        [
         "Lucy",
         "Collins"
        ],
        [
         "Jeremiah",
         "Rogers"
        ],
        [
         "Minnie",
         "Henderson"
        ],
        [
         "Jeremy",
         "Fox"
        ],
        [
         "Anthony",
         "Bowman"
        ],
        [
         "Dennis",
         "Norris"
        ],
        [
         "Marvin",
         "Hanson"
        ],
        [
         "Lucy",
         "Adams"
        ],
        [
         "Gilbert",
         "Carpenter"
        ],
        [
         "Owen",
         "Patton"
        ],
        [
         "Bradley",
         "Byrd"
        ],
        [
         "Hunter",
         "Boone"
        ],
        [
         "Adele",
         "Hill"
        ],
        [
         "Willie",
         "Roy"
        ],
        [
         "Ian",
         "Bridges"
        ],
        [
         "Theresa",
         "Sparks"
        ],
        [
         "Rodney",
         "Carr"
        ],
        [
         "Logan",
         "Howard"
        ],
        [
         "Juan",
         "Murphy"
        ],
        [
         "Mathilda",
         "Rowe"
        ],
        [
         "Lola",
         "Matthews"
        ],
        [
         "Gussie",
         "Gross"
        ],
        [
         "Steven",
         "Brown"
        ],
        [
         "Eva",
         "Schmidt"
        ],
        [
         "Marion",
         "Malone"
        ],
        [
         "Rodney",
         "Brady"
        ],
        [
         "Helen",
         "Dixon"
        ],
        [
         "Rosalie",
         "Boyd"
        ],
        [
         "Francis",
         "Ortiz"
        ],
        [
         "Evelyn",
         "Holland"
        ],
        [
         "Marcus",
         "Singleton"
        ],
        [
         "Virginia",
         "Wood"
        ],
        [
         "Georgia",
         "Watkins"
        ],
        [
         "Katie",
         "Matthews"
        ],
        [
         "Callie",
         "Hernandez"
        ],
        [
         "Chase",
         "Bryant"
        ],
        [
         "Brett",
         "Miller"
        ],
        [
         "Adelaide",
         "Phelps"
        ],
        [
         "Leo",
         "Walters"
        ],
        [
         "Samuel",
         "Schmidt"
        ],
        [
         "Elizabeth",
         "Gordon"
        ]
       ],
       "datasetInfos": [],
       "dbfsResultPath": null,
       "isJsonSchema": true,
       "metadata": {},
       "overflow": false,
       "plotOptions": {
        "customPlotOptions": {},
        "displayType": "table",
        "pivotAggregation": null,
        "pivotColumns": null,
        "xColumns": null,
        "yColumns": null
       },
       "removedWidgets": [],
       "schema": [
        {
         "metadata": "{}",
         "name": "column0",
         "type": "\"string\""
        },
        {
         "metadata": "{}",
         "name": "column1",
         "type": "\"string\""
        }
       ],
       "type": "table"
      }
     },
     "output_type": "display_data"
    }
   ],
   "source": [
    "#Metoda 2\n",
    "\n",
    "mydataframe = spark.sql(\"SELECT * FROM parquet.`/Volumes/newcatalog/newschema/myvolume/sample1.parquet`\")\n",
    "display(mydataframe)"
   ]
  },
  {
   "cell_type": "code",
   "execution_count": 0,
   "metadata": {
    "application/vnd.databricks.v1+cell": {
     "cellMetadata": {
      "byteLimit": 2048000,
      "rowLimit": 10000
     },
     "inputWidgets": {},
     "nuid": "822ce1e5-f922-4fd4-9962-6b30ac85fa22",
     "showTitle": false,
     "tableResultSettingsMap": {},
     "title": ""
    }
   },
   "outputs": [
    {
     "output_type": "display_data",
     "data": {
      "text/html": [
       "<style scoped>\n",
       "  .table-result-container {\n",
       "    max-height: 300px;\n",
       "    overflow: auto;\n",
       "  }\n",
       "  table, th, td {\n",
       "    border: 1px solid black;\n",
       "    border-collapse: collapse;\n",
       "  }\n",
       "  th, td {\n",
       "    padding: 5px;\n",
       "  }\n",
       "  th {\n",
       "    text-align: left;\n",
       "  }\n",
       "</style><div class='table-result-container'><table class='table-result'><thead style='background-color: white'><tr><th>column0</th></tr></thead><tbody><tr><td>first</td></tr><tr><td>Jorge</td></tr><tr><td>Hunter</td></tr></tbody></table></div>"
      ]
     },
     "metadata": {
      "application/vnd.databricks.v1+output": {
       "addedWidgets": {},
       "aggData": [],
       "aggError": "",
       "aggOverflow": false,
       "aggSchema": [],
       "aggSeriesLimitReached": false,
       "aggType": "",
       "arguments": {},
       "columnCustomDisplayInfos": {},
       "data": [
        [
         "first"
        ],
        [
         "Jorge"
        ],
        [
         "Hunter"
        ]
       ],
       "datasetInfos": [],
       "dbfsResultPath": null,
       "isJsonSchema": true,
       "metadata": {},
       "overflow": false,
       "plotOptions": {
        "customPlotOptions": {},
        "displayType": "table",
        "pivotAggregation": null,
        "pivotColumns": null,
        "xColumns": null,
        "yColumns": null
       },
       "removedWidgets": [],
       "schema": [
        {
         "metadata": "{}",
         "name": "column0",
         "type": "\"string\""
        }
       ],
       "type": "table"
      }
     },
     "output_type": "display_data"
    }
   ],
   "source": [
    "#wyświetlenie wskazanych kolumn\n",
    "\n",
    "mydataframe.select(mydataframe.column0).show(3)\n",
    "#lub\n",
    "display(mydataframe.select(mydataframe.column0).head(3))"
   ]
  },
  {
   "cell_type": "code",
   "execution_count": 0,
   "metadata": {
    "application/vnd.databricks.v1+cell": {
     "cellMetadata": {
      "byteLimit": 2048000,
      "rowLimit": 10000
     },
     "inputWidgets": {},
     "nuid": "b38747a4-09ac-4133-8466-d1ea79293d8d",
     "showTitle": false,
     "tableResultSettingsMap": {},
     "title": ""
    }
   },
   "outputs": [
    {
     "output_type": "stream",
     "name": "stdout",
     "output_type": "stream",
     "text": [
      "root\n |-- column0: string (nullable = true)\n |-- column1: string (nullable = true)\n\n"
     ]
    }
   ],
   "source": [
    "#wyświetlenie struktury dataframe'a\n",
    "\n",
    "mydataframe.printSchema()"
   ]
  },
  {
   "cell_type": "markdown",
   "metadata": {
    "application/vnd.databricks.v1+cell": {
     "cellMetadata": {},
     "inputWidgets": {},
     "nuid": "4c0c676f-f908-4a75-9172-4b0db0223fbc",
     "showTitle": false,
     "tableResultSettingsMap": {},
     "title": ""
    }
   },
   "source": [
    "### Czytanie plików parquet prz użyciu SparkSQL\n",
    "\n",
    "- przydaje sie przy zapytaniach ad-hoc"
   ]
  },
  {
   "cell_type": "code",
   "execution_count": 0,
   "metadata": {
    "application/vnd.databricks.v1+cell": {
     "cellMetadata": {
      "byteLimit": 2048000,
      "implicitDf": true,
      "rowLimit": 10000
     },
     "inputWidgets": {},
     "nuid": "e081afd3-5757-4a6c-bdf5-8c0d107e9e06",
     "showTitle": false,
     "tableResultSettingsMap": {},
     "title": ""
    }
   },
   "outputs": [
    {
     "output_type": "display_data",
     "data": {
      "text/html": [
       "<style scoped>\n",
       "  .table-result-container {\n",
       "    max-height: 300px;\n",
       "    overflow: auto;\n",
       "  }\n",
       "  table, th, td {\n",
       "    border: 1px solid black;\n",
       "    border-collapse: collapse;\n",
       "  }\n",
       "  th, td {\n",
       "    padding: 5px;\n",
       "  }\n",
       "  th {\n",
       "    text-align: left;\n",
       "  }\n",
       "</style><div class='table-result-container'><table class='table-result'><thead style='background-color: white'><tr><th>column0</th><th>column1</th></tr></thead><tbody><tr><td>first</td><td> last</td></tr><tr><td>Jorge</td><td>Frank</td></tr><tr><td>Hunter</td><td>Moreno</td></tr><tr><td>Esther</td><td>Guzman</td></tr><tr><td>Dennis</td><td>Stephens</td></tr><tr><td>Nettie</td><td>Franklin</td></tr><tr><td>Stanley</td><td>Gibson</td></tr><tr><td>Eugenia</td><td>Greer</td></tr><tr><td>Jeffery</td><td>Delgado</td></tr><tr><td>Clara</td><td>Cross</td></tr><tr><td>Bernice</td><td>Vega</td></tr><tr><td>Kevin</td><td>Diaz</td></tr><tr><td>Henrietta</td><td>Rivera</td></tr><tr><td>Matilda</td><td>Ellis</td></tr><tr><td>Isaac</td><td>Willis</td></tr><tr><td>Eric</td><td>Cain</td></tr><tr><td>Hettie</td><td>Baldwin</td></tr><tr><td>Tommy</td><td>Wheeler</td></tr><tr><td>Theresa</td><td>Casey</td></tr><tr><td>Bess</td><td>Griffin</td></tr><tr><td>Virgie</td><td>Sherman</td></tr><tr><td>Richard</td><td>Garrett</td></tr><tr><td>Andrew</td><td>Clark</td></tr><tr><td>Edna</td><td>Ramos</td></tr><tr><td>Gregory</td><td>Henderson</td></tr><tr><td>Isabel</td><td>Russell</td></tr><tr><td>Gregory</td><td>Arnold</td></tr><tr><td>Leah</td><td>Green</td></tr><tr><td>Landon</td><td>Washington</td></tr><tr><td>Ada</td><td>Guzman</td></tr><tr><td>Steve</td><td>Brooks</td></tr><tr><td>Harriett</td><td>Parker</td></tr><tr><td>Mildred</td><td>Wallace</td></tr><tr><td>Nell</td><td>Townsend</td></tr><tr><td>Gussie</td><td>Nash</td></tr><tr><td>Dennis</td><td>Pratt</td></tr><tr><td>Zachary</td><td>Bishop</td></tr><tr><td>Mary</td><td>Baldwin</td></tr><tr><td>Micheal</td><td>Baker</td></tr><tr><td>Abbie</td><td>Willis</td></tr><tr><td>Sylvia</td><td>Jennings</td></tr><tr><td>Seth</td><td>Meyer</td></tr><tr><td>Jeff</td><td>Lamb</td></tr><tr><td>Lillian</td><td>Sparks</td></tr><tr><td>Ian</td><td>Sanchez</td></tr><tr><td>Timothy</td><td>Barton</td></tr><tr><td>Carl</td><td>Sharp</td></tr><tr><td>Elmer</td><td>Palmer</td></tr><tr><td>Olivia</td><td>Francis</td></tr><tr><td>Jerome</td><td>Nash</td></tr><tr><td>Alan</td><td>Diaz</td></tr><tr><td>Lois</td><td>Clayton</td></tr><tr><td>Frances</td><td>Perez</td></tr><tr><td>Warren</td><td>Cunningham</td></tr><tr><td>Flora</td><td>Higgins</td></tr><tr><td>Brent</td><td>Atkins</td></tr><tr><td>Olivia</td><td>Thompson</td></tr><tr><td>Leo</td><td>Hines</td></tr><tr><td>Josie</td><td>Hunt</td></tr><tr><td>Jerry</td><td>Hunt</td></tr><tr><td>Lucy</td><td>Collins</td></tr><tr><td>Jeremiah</td><td>Rogers</td></tr><tr><td>Minnie</td><td>Henderson</td></tr><tr><td>Jeremy</td><td>Fox</td></tr><tr><td>Anthony</td><td>Bowman</td></tr><tr><td>Dennis</td><td>Norris</td></tr><tr><td>Marvin</td><td>Hanson</td></tr><tr><td>Lucy</td><td>Adams</td></tr><tr><td>Gilbert</td><td>Carpenter</td></tr><tr><td>Owen</td><td>Patton</td></tr><tr><td>Bradley</td><td>Byrd</td></tr><tr><td>Hunter</td><td>Boone</td></tr><tr><td>Adele</td><td>Hill</td></tr><tr><td>Willie</td><td>Roy</td></tr><tr><td>Ian</td><td>Bridges</td></tr><tr><td>Theresa</td><td>Sparks</td></tr><tr><td>Rodney</td><td>Carr</td></tr><tr><td>Logan</td><td>Howard</td></tr><tr><td>Juan</td><td>Murphy</td></tr><tr><td>Mathilda</td><td>Rowe</td></tr><tr><td>Lola</td><td>Matthews</td></tr><tr><td>Gussie</td><td>Gross</td></tr><tr><td>Steven</td><td>Brown</td></tr><tr><td>Eva</td><td>Schmidt</td></tr><tr><td>Marion</td><td>Malone</td></tr><tr><td>Rodney</td><td>Brady</td></tr><tr><td>Helen</td><td>Dixon</td></tr><tr><td>Rosalie</td><td>Boyd</td></tr><tr><td>Francis</td><td>Ortiz</td></tr><tr><td>Evelyn</td><td>Holland</td></tr><tr><td>Marcus</td><td>Singleton</td></tr><tr><td>Virginia</td><td>Wood</td></tr><tr><td>Georgia</td><td>Watkins</td></tr><tr><td>Katie</td><td>Matthews</td></tr><tr><td>Callie</td><td>Hernandez</td></tr><tr><td>Chase</td><td>Bryant</td></tr><tr><td>Brett</td><td>Miller</td></tr><tr><td>Adelaide</td><td>Phelps</td></tr><tr><td>Leo</td><td>Walters</td></tr><tr><td>Samuel</td><td>Schmidt</td></tr><tr><td>Elizabeth</td><td>Gordon</td></tr></tbody></table></div>"
      ]
     },
     "metadata": {
      "application/vnd.databricks.v1+output": {
       "addedWidgets": {},
       "aggData": [],
       "aggError": "",
       "aggOverflow": false,
       "aggSchema": [],
       "aggSeriesLimitReached": false,
       "aggType": "",
       "arguments": {},
       "columnCustomDisplayInfos": {},
       "data": [
        [
         "first",
         " last"
        ],
        [
         "Jorge",
         "Frank"
        ],
        [
         "Hunter",
         "Moreno"
        ],
        [
         "Esther",
         "Guzman"
        ],
        [
         "Dennis",
         "Stephens"
        ],
        [
         "Nettie",
         "Franklin"
        ],
        [
         "Stanley",
         "Gibson"
        ],
        [
         "Eugenia",
         "Greer"
        ],
        [
         "Jeffery",
         "Delgado"
        ],
        [
         "Clara",
         "Cross"
        ],
        [
         "Bernice",
         "Vega"
        ],
        [
         "Kevin",
         "Diaz"
        ],
        [
         "Henrietta",
         "Rivera"
        ],
        [
         "Matilda",
         "Ellis"
        ],
        [
         "Isaac",
         "Willis"
        ],
        [
         "Eric",
         "Cain"
        ],
        [
         "Hettie",
         "Baldwin"
        ],
        [
         "Tommy",
         "Wheeler"
        ],
        [
         "Theresa",
         "Casey"
        ],
        [
         "Bess",
         "Griffin"
        ],
        [
         "Virgie",
         "Sherman"
        ],
        [
         "Richard",
         "Garrett"
        ],
        [
         "Andrew",
         "Clark"
        ],
        [
         "Edna",
         "Ramos"
        ],
        [
         "Gregory",
         "Henderson"
        ],
        [
         "Isabel",
         "Russell"
        ],
        [
         "Gregory",
         "Arnold"
        ],
        [
         "Leah",
         "Green"
        ],
        [
         "Landon",
         "Washington"
        ],
        [
         "Ada",
         "Guzman"
        ],
        [
         "Steve",
         "Brooks"
        ],
        [
         "Harriett",
         "Parker"
        ],
        [
         "Mildred",
         "Wallace"
        ],
        [
         "Nell",
         "Townsend"
        ],
        [
         "Gussie",
         "Nash"
        ],
        [
         "Dennis",
         "Pratt"
        ],
        [
         "Zachary",
         "Bishop"
        ],
        [
         "Mary",
         "Baldwin"
        ],
        [
         "Micheal",
         "Baker"
        ],
        [
         "Abbie",
         "Willis"
        ],
        [
         "Sylvia",
         "Jennings"
        ],
        [
         "Seth",
         "Meyer"
        ],
        [
         "Jeff",
         "Lamb"
        ],
        [
         "Lillian",
         "Sparks"
        ],
        [
         "Ian",
         "Sanchez"
        ],
        [
         "Timothy",
         "Barton"
        ],
        [
         "Carl",
         "Sharp"
        ],
        [
         "Elmer",
         "Palmer"
        ],
        [
         "Olivia",
         "Francis"
        ],
        [
         "Jerome",
         "Nash"
        ],
        [
         "Alan",
         "Diaz"
        ],
        [
         "Lois",
         "Clayton"
        ],
        [
         "Frances",
         "Perez"
        ],
        [
         "Warren",
         "Cunningham"
        ],
        [
         "Flora",
         "Higgins"
        ],
        [
         "Brent",
         "Atkins"
        ],
        [
         "Olivia",
         "Thompson"
        ],
        [
         "Leo",
         "Hines"
        ],
        [
         "Josie",
         "Hunt"
        ],
        [
         "Jerry",
         "Hunt"
        ],
        [
         "Lucy",
         "Collins"
        ],
        [
         "Jeremiah",
         "Rogers"
        ],
        [
         "Minnie",
         "Henderson"
        ],
        [
         "Jeremy",
         "Fox"
        ],
        [
         "Anthony",
         "Bowman"
        ],
        [
         "Dennis",
         "Norris"
        ],
        [
         "Marvin",
         "Hanson"
        ],
        [
         "Lucy",
         "Adams"
        ],
        [
         "Gilbert",
         "Carpenter"
        ],
        [
         "Owen",
         "Patton"
        ],
        [
         "Bradley",
         "Byrd"
        ],
        [
         "Hunter",
         "Boone"
        ],
        [
         "Adele",
         "Hill"
        ],
        [
         "Willie",
         "Roy"
        ],
        [
         "Ian",
         "Bridges"
        ],
        [
         "Theresa",
         "Sparks"
        ],
        [
         "Rodney",
         "Carr"
        ],
        [
         "Logan",
         "Howard"
        ],
        [
         "Juan",
         "Murphy"
        ],
        [
         "Mathilda",
         "Rowe"
        ],
        [
         "Lola",
         "Matthews"
        ],
        [
         "Gussie",
         "Gross"
        ],
        [
         "Steven",
         "Brown"
        ],
        [
         "Eva",
         "Schmidt"
        ],
        [
         "Marion",
         "Malone"
        ],
        [
         "Rodney",
         "Brady"
        ],
        [
         "Helen",
         "Dixon"
        ],
        [
         "Rosalie",
         "Boyd"
        ],
        [
         "Francis",
         "Ortiz"
        ],
        [
         "Evelyn",
         "Holland"
        ],
        [
         "Marcus",
         "Singleton"
        ],
        [
         "Virginia",
         "Wood"
        ],
        [
         "Georgia",
         "Watkins"
        ],
        [
         "Katie",
         "Matthews"
        ],
        [
         "Callie",
         "Hernandez"
        ],
        [
         "Chase",
         "Bryant"
        ],
        [
         "Brett",
         "Miller"
        ],
        [
         "Adelaide",
         "Phelps"
        ],
        [
         "Leo",
         "Walters"
        ],
        [
         "Samuel",
         "Schmidt"
        ],
        [
         "Elizabeth",
         "Gordon"
        ]
       ],
       "datasetInfos": [
        {
         "name": "_sqldf",
         "schema": {
          "fields": [
           {
            "metadata": {},
            "name": "column0",
            "nullable": true,
            "type": "string"
           },
           {
            "metadata": {},
            "name": "column1",
            "nullable": true,
            "type": "string"
           }
          ],
          "type": "struct"
         },
         "tableIdentifier": null,
         "typeStr": "pyspark.sql.connect.dataframe.DataFrame"
        }
       ],
       "dbfsResultPath": null,
       "isJsonSchema": true,
       "metadata": {
        "createTempViewForImplicitDf": true,
        "dataframeName": "_sqldf",
        "executionCount": 40
       },
       "overflow": false,
       "plotOptions": {
        "customPlotOptions": {},
        "displayType": "table",
        "pivotAggregation": null,
        "pivotColumns": null,
        "xColumns": null,
        "yColumns": null
       },
       "removedWidgets": [],
       "schema": [
        {
         "metadata": "{}",
         "name": "column0",
         "type": "\"string\""
        },
        {
         "metadata": "{}",
         "name": "column1",
         "type": "\"string\""
        }
       ],
       "type": "table"
      }
     },
     "output_type": "display_data"
    }
   ],
   "source": [
    "%sql\n",
    "SELECT * FROM parquet.`/Volumes/newcatalog/newschema/myvolume/sample1.parquet`"
   ]
  },
  {
   "cell_type": "code",
   "execution_count": 0,
   "metadata": {
    "application/vnd.databricks.v1+cell": {
     "cellMetadata": {
      "byteLimit": 2048000,
      "implicitDf": true,
      "rowLimit": 10000
     },
     "inputWidgets": {},
     "nuid": "332b0a45-e0de-48d0-b37f-b8310f9a8c45",
     "showTitle": false,
     "tableResultSettingsMap": {},
     "title": ""
    }
   },
   "outputs": [
    {
     "output_type": "display_data",
     "data": {
      "text/html": [
       "<style scoped>\n",
       "  .table-result-container {\n",
       "    max-height: 300px;\n",
       "    overflow: auto;\n",
       "  }\n",
       "  table, th, td {\n",
       "    border: 1px solid black;\n",
       "    border-collapse: collapse;\n",
       "  }\n",
       "  th, td {\n",
       "    padding: 5px;\n",
       "  }\n",
       "  th {\n",
       "    text-align: left;\n",
       "  }\n",
       "</style><div class='table-result-container'><table class='table-result'><thead style='background-color: white'><tr><th>FirstName</th><th>LastName</th></tr></thead><tbody><tr><td>first</td><td> last</td></tr><tr><td>Jorge</td><td>Frank</td></tr><tr><td>Hunter</td><td>Moreno</td></tr></tbody></table></div>"
      ]
     },
     "metadata": {
      "application/vnd.databricks.v1+output": {
       "addedWidgets": {},
       "aggData": [],
       "aggError": "",
       "aggOverflow": false,
       "aggSchema": [],
       "aggSeriesLimitReached": false,
       "aggType": "",
       "arguments": {},
       "columnCustomDisplayInfos": {},
       "data": [
        [
         "first",
         " last"
        ],
        [
         "Jorge",
         "Frank"
        ],
        [
         "Hunter",
         "Moreno"
        ]
       ],
       "datasetInfos": [
        {
         "name": "_sqldf",
         "schema": {
          "fields": [
           {
            "metadata": {},
            "name": "FirstName",
            "nullable": true,
            "type": "string"
           },
           {
            "metadata": {},
            "name": "LastName",
            "nullable": true,
            "type": "string"
           }
          ],
          "type": "struct"
         },
         "tableIdentifier": null,
         "typeStr": "pyspark.sql.connect.dataframe.DataFrame"
        }
       ],
       "dbfsResultPath": null,
       "isJsonSchema": true,
       "metadata": {
        "createTempViewForImplicitDf": true,
        "dataframeName": "_sqldf",
        "executionCount": 65
       },
       "overflow": false,
       "plotOptions": {
        "customPlotOptions": {},
        "displayType": "table",
        "pivotAggregation": null,
        "pivotColumns": null,
        "xColumns": null,
        "yColumns": null
       },
       "removedWidgets": [],
       "schema": [
        {
         "metadata": "{}",
         "name": "FirstName",
         "type": "\"string\""
        },
        {
         "metadata": "{}",
         "name": "LastName",
         "type": "\"string\""
        }
       ],
       "type": "table"
      }
     },
     "output_type": "display_data"
    }
   ],
   "source": [
    "%sql\n",
    "DROP TABLE IF EXISTS names;\n",
    "\n",
    "CREATE TABLE IF NOT EXISTS names (\n",
    "FirstName STRING,\n",
    "LastName STRING\n",
    ")\n",
    "USING DELTA -- or parquet\n",
    ";\n",
    "\n",
    "INSERT INTO names (FirstName, LastName) SELECT * FROM parquet.`/Volumes/newcatalog/newschema/myvolume/sample1.parquet`;\n",
    "\n",
    "SELECT * FROM names LIMIT 3;"
   ]
  },
  {
   "cell_type": "code",
   "execution_count": 0,
   "metadata": {
    "application/vnd.databricks.v1+cell": {
     "cellMetadata": {
      "byteLimit": 2048000,
      "implicitDf": true,
      "rowLimit": 10000
     },
     "inputWidgets": {},
     "nuid": "6dba52f4-6363-471a-b159-91d973221592",
     "showTitle": false,
     "tableResultSettingsMap": {},
     "title": ""
    }
   },
   "outputs": [
    {
     "output_type": "display_data",
     "data": {
      "text/html": [
       "<style scoped>\n",
       "  .table-result-container {\n",
       "    max-height: 300px;\n",
       "    overflow: auto;\n",
       "  }\n",
       "  table, th, td {\n",
       "    border: 1px solid black;\n",
       "    border-collapse: collapse;\n",
       "  }\n",
       "  th, td {\n",
       "    padding: 5px;\n",
       "  }\n",
       "  th {\n",
       "    text-align: left;\n",
       "  }\n",
       "</style><div class='table-result-container'><table class='table-result'><thead style='background-color: white'><tr><th>col_name</th><th>data_type</th><th>comment</th></tr></thead><tbody><tr><td>FirstName</td><td>string</td><td>null</td></tr><tr><td>LastName</td><td>string</td><td>null</td></tr><tr><td></td><td></td><td></td></tr><tr><td># Delta Statistics Columns</td><td></td><td></td></tr><tr><td>Column Names</td><td>FirstName, LastName</td><td></td></tr><tr><td>Column Selection Method</td><td>first-32</td><td></td></tr><tr><td></td><td></td><td></td></tr><tr><td># Detailed Table Information</td><td></td><td></td></tr><tr><td>Catalog</td><td>workspace</td><td></td></tr><tr><td>Database</td><td>default</td><td></td></tr><tr><td>Table</td><td>names</td><td></td></tr><tr><td>Created Time</td><td>Fri Mar 07 12:21:57 UTC 2025</td><td></td></tr><tr><td>Last Access</td><td>UNKNOWN</td><td></td></tr><tr><td>Created By</td><td>Spark </td><td></td></tr><tr><td>Type</td><td>MANAGED</td><td></td></tr><tr><td>Location</td><td></td><td></td></tr><tr><td>Provider</td><td>delta</td><td></td></tr><tr><td>Owner</td><td>jacek.rybski@gmail.com</td><td></td></tr><tr><td>Is_managed_location</td><td>true</td><td></td></tr><tr><td>Predictive Optimization</td><td>ENABLE (inherited from METASTORE metastore_aws_eu_west_1)</td><td></td></tr><tr><td>Table Properties</td><td>[delta.enableDeletionVectors=true,delta.feature.appendOnly=supported,delta.feature.deletionVectors=supported,delta.feature.invariants=supported,delta.minReaderVersion=3,delta.minWriterVersion=7]</td><td></td></tr></tbody></table></div>"
      ]
     },
     "metadata": {
      "application/vnd.databricks.v1+output": {
       "addedWidgets": {},
       "aggData": [],
       "aggError": "",
       "aggOverflow": false,
       "aggSchema": [],
       "aggSeriesLimitReached": false,
       "aggType": "",
       "arguments": {},
       "columnCustomDisplayInfos": {},
       "data": [
        [
         "FirstName",
         "string",
         null
        ],
        [
         "LastName",
         "string",
         null
        ],
        [
         "",
         "",
         ""
        ],
        [
         "# Delta Statistics Columns",
         "",
         ""
        ],
        [
         "Column Names",
         "FirstName, LastName",
         ""
        ],
        [
         "Column Selection Method",
         "first-32",
         ""
        ],
        [
         "",
         "",
         ""
        ],
        [
         "# Detailed Table Information",
         "",
         ""
        ],
        [
         "Catalog",
         "workspace",
         ""
        ],
        [
         "Database",
         "default",
         ""
        ],
        [
         "Table",
         "names",
         ""
        ],
        [
         "Created Time",
         "Fri Mar 07 12:21:57 UTC 2025",
         ""
        ],
        [
         "Last Access",
         "UNKNOWN",
         ""
        ],
        [
         "Created By",
         "Spark ",
         ""
        ],
        [
         "Type",
         "MANAGED",
         ""
        ],
        [
         "Location",
         "",
         ""
        ],
        [
         "Provider",
         "delta",
         ""
        ],
        [
         "Owner",
         "jacek.rybski@gmail.com",
         ""
        ],
        [
         "Is_managed_location",
         "true",
         ""
        ],
        [
         "Predictive Optimization",
         "ENABLE (inherited from METASTORE metastore_aws_eu_west_1)",
         ""
        ],
        [
         "Table Properties",
         "[delta.enableDeletionVectors=true,delta.feature.appendOnly=supported,delta.feature.deletionVectors=supported,delta.feature.invariants=supported,delta.minReaderVersion=3,delta.minWriterVersion=7]",
         ""
        ]
       ],
       "datasetInfos": [
        {
         "name": "_sqldf",
         "schema": {
          "fields": [
           {
            "metadata": {},
            "name": "col_name",
            "nullable": false,
            "type": "string"
           },
           {
            "metadata": {},
            "name": "data_type",
            "nullable": false,
            "type": "string"
           },
           {
            "metadata": {},
            "name": "comment",
            "nullable": true,
            "type": "string"
           }
          ],
          "type": "struct"
         },
         "tableIdentifier": null,
         "typeStr": "pyspark.sql.connect.dataframe.DataFrame"
        }
       ],
       "dbfsResultPath": null,
       "isJsonSchema": true,
       "metadata": {
        "createTempViewForImplicitDf": true,
        "dataframeName": "_sqldf",
        "executionCount": 71
       },
       "overflow": false,
       "plotOptions": {
        "customPlotOptions": {},
        "displayType": "table",
        "pivotAggregation": null,
        "pivotColumns": null,
        "xColumns": null,
        "yColumns": null
       },
       "removedWidgets": [],
       "schema": [
        {
         "metadata": "{}",
         "name": "col_name",
         "type": "\"string\""
        },
        {
         "metadata": "{}",
         "name": "data_type",
         "type": "\"string\""
        },
        {
         "metadata": "{}",
         "name": "comment",
         "type": "\"string\""
        }
       ],
       "type": "table"
      }
     },
     "output_type": "display_data"
    }
   ],
   "source": [
    "%sql\n",
    "DESCRIBE TABLE names;\n",
    "DESCRIBE EXTENDED names;"
   ]
  },
  {
   "cell_type": "code",
   "execution_count": 0,
   "metadata": {
    "application/vnd.databricks.v1+cell": {
     "cellMetadata": {
      "byteLimit": 2048000,
      "implicitDf": true,
      "rowLimit": 10000
     },
     "inputWidgets": {},
     "nuid": "ea351fa9-6c05-4a65-8495-4f04d3c84e70",
     "showTitle": false,
     "tableResultSettingsMap": {},
     "title": ""
    }
   },
   "outputs": [
    {
     "output_type": "display_data",
     "data": {
      "text/html": [
       "<style scoped>\n",
       "  .table-result-container {\n",
       "    max-height: 300px;\n",
       "    overflow: auto;\n",
       "  }\n",
       "  table, th, td {\n",
       "    border: 1px solid black;\n",
       "    border-collapse: collapse;\n",
       "  }\n",
       "  th, td {\n",
       "    padding: 5px;\n",
       "  }\n",
       "  th {\n",
       "    text-align: left;\n",
       "  }\n",
       "</style><div class='table-result-container'><table class='table-result'><thead style='background-color: white'><tr><th>FirstName</th><th>LastName</th></tr></thead><tbody><tr><td>Hunter</td><td>Moreno</td></tr></tbody></table></div>"
      ]
     },
     "metadata": {
      "application/vnd.databricks.v1+output": {
       "addedWidgets": {},
       "aggData": [],
       "aggError": "",
       "aggOverflow": false,
       "aggSchema": [],
       "aggSeriesLimitReached": false,
       "aggType": "",
       "arguments": {},
       "columnCustomDisplayInfos": {},
       "data": [
        [
         "Hunter",
         "Moreno"
        ]
       ],
       "datasetInfos": [
        {
         "name": "_sqldf",
         "schema": {
          "fields": [
           {
            "metadata": {},
            "name": "FirstName",
            "nullable": true,
            "type": "string"
           },
           {
            "metadata": {},
            "name": "LastName",
            "nullable": true,
            "type": "string"
           }
          ],
          "type": "struct"
         },
         "tableIdentifier": null,
         "typeStr": "pyspark.sql.connect.dataframe.DataFrame"
        }
       ],
       "dbfsResultPath": null,
       "isJsonSchema": true,
       "metadata": {
        "createTempViewForImplicitDf": true,
        "dataframeName": "_sqldf",
        "executionCount": 99
       },
       "overflow": false,
       "plotOptions": {
        "customPlotOptions": {},
        "displayType": "table",
        "pivotAggregation": null,
        "pivotColumns": null,
        "xColumns": null,
        "yColumns": null
       },
       "removedWidgets": [],
       "schema": [
        {
         "metadata": "{}",
         "name": "FirstName",
         "type": "\"string\""
        },
        {
         "metadata": "{}",
         "name": "LastName",
         "type": "\"string\""
        }
       ],
       "type": "table"
      }
     },
     "output_type": "display_data"
    }
   ],
   "source": [
    "%sql\n",
    "--Update danych\n",
    "\n",
    "\n",
    "SELECT * FROM names WHERE LastName = 'Moreno';\n",
    "--UPDATE names SET FirstName = 'Jacek' WHERE LastName = 'Moreno';\n",
    "--SELECT * FROM names WHERE LastName = 'Moreno';\n",
    "\n",
    "--historia operacji na tabeli\n",
    "--DESCRIBE HISTORY names;\n",
    "\n",
    "--RESTORE names VERSION AS OF 1;\n"
   ]
  }
 ],
 "metadata": {
  "application/vnd.databricks.v1+notebook": {
   "computePreferences": null,
   "dashboards": [],
   "environmentMetadata": {
    "base_environment": "",
    "environment_version": "2"
   },
   "language": "python",
   "notebookMetadata": {
    "mostRecentlyExecutedCommandWithImplicitDF": {
     "commandId": 4479085270837596,
     "dataframes": [
      "_sqldf"
     ]
    },
    "pythonIndentUnit": 4
   },
   "notebookName": "MyFirstNotebook",
   "widgets": {}
  },
  "language_info": {
   "name": "python"
  }
 },
 "nbformat": 4,
 "nbformat_minor": 0
}